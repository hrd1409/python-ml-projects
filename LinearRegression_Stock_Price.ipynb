{
 "cells": [
  {
   "cell_type": "code",
   "execution_count": 2,
   "metadata": {},
   "outputs": [
    {
     "data": {
      "text/html": [
       "<div>\n",
       "<style scoped>\n",
       "    .dataframe tbody tr th:only-of-type {\n",
       "        vertical-align: middle;\n",
       "    }\n",
       "\n",
       "    .dataframe tbody tr th {\n",
       "        vertical-align: top;\n",
       "    }\n",
       "\n",
       "    .dataframe thead th {\n",
       "        text-align: right;\n",
       "    }\n",
       "</style>\n",
       "<table border=\"1\" class=\"dataframe\">\n",
       "  <thead>\n",
       "    <tr style=\"text-align: right;\">\n",
       "      <th></th>\n",
       "      <th>Date</th>\n",
       "      <th>Open</th>\n",
       "      <th>High</th>\n",
       "      <th>Low</th>\n",
       "      <th>Close</th>\n",
       "      <th>Adj Close</th>\n",
       "      <th>Volume</th>\n",
       "    </tr>\n",
       "  </thead>\n",
       "  <tbody>\n",
       "    <tr>\n",
       "      <th>0</th>\n",
       "      <td>2010-06-29</td>\n",
       "      <td>19.000000</td>\n",
       "      <td>25.00</td>\n",
       "      <td>17.540001</td>\n",
       "      <td>23.889999</td>\n",
       "      <td>23.889999</td>\n",
       "      <td>18766300</td>\n",
       "    </tr>\n",
       "    <tr>\n",
       "      <th>1</th>\n",
       "      <td>2010-06-30</td>\n",
       "      <td>25.790001</td>\n",
       "      <td>30.42</td>\n",
       "      <td>23.299999</td>\n",
       "      <td>23.830000</td>\n",
       "      <td>23.830000</td>\n",
       "      <td>17187100</td>\n",
       "    </tr>\n",
       "    <tr>\n",
       "      <th>2</th>\n",
       "      <td>2010-07-01</td>\n",
       "      <td>25.000000</td>\n",
       "      <td>25.92</td>\n",
       "      <td>20.270000</td>\n",
       "      <td>21.959999</td>\n",
       "      <td>21.959999</td>\n",
       "      <td>8218800</td>\n",
       "    </tr>\n",
       "    <tr>\n",
       "      <th>3</th>\n",
       "      <td>2010-07-02</td>\n",
       "      <td>23.000000</td>\n",
       "      <td>23.10</td>\n",
       "      <td>18.709999</td>\n",
       "      <td>19.200001</td>\n",
       "      <td>19.200001</td>\n",
       "      <td>5139800</td>\n",
       "    </tr>\n",
       "    <tr>\n",
       "      <th>4</th>\n",
       "      <td>2010-07-06</td>\n",
       "      <td>20.000000</td>\n",
       "      <td>20.00</td>\n",
       "      <td>15.830000</td>\n",
       "      <td>16.110001</td>\n",
       "      <td>16.110001</td>\n",
       "      <td>6866900</td>\n",
       "    </tr>\n",
       "  </tbody>\n",
       "</table>\n",
       "</div>"
      ],
      "text/plain": [
       "         Date       Open   High        Low      Close  Adj Close    Volume\n",
       "0  2010-06-29  19.000000  25.00  17.540001  23.889999  23.889999  18766300\n",
       "1  2010-06-30  25.790001  30.42  23.299999  23.830000  23.830000  17187100\n",
       "2  2010-07-01  25.000000  25.92  20.270000  21.959999  21.959999   8218800\n",
       "3  2010-07-02  23.000000  23.10  18.709999  19.200001  19.200001   5139800\n",
       "4  2010-07-06  20.000000  20.00  15.830000  16.110001  16.110001   6866900"
      ]
     },
     "execution_count": 2,
     "metadata": {},
     "output_type": "execute_result"
    }
   ],
   "source": [
    "import pandas as pd\n",
    "import numpy as np\n",
    "import matplotlib.pyplot as plt\n",
    "data=pd.read_csv(\"D:\\\\disk d\\\\SEM-7\\\\training\\\\TSLA.csv\")\n",
    "data.head()"
   ]
  },
  {
   "cell_type": "code",
   "execution_count": 3,
   "metadata": {},
   "outputs": [
    {
     "data": {
      "text/html": [
       "<div>\n",
       "<style scoped>\n",
       "    .dataframe tbody tr th:only-of-type {\n",
       "        vertical-align: middle;\n",
       "    }\n",
       "\n",
       "    .dataframe tbody tr th {\n",
       "        vertical-align: top;\n",
       "    }\n",
       "\n",
       "    .dataframe thead th {\n",
       "        text-align: right;\n",
       "    }\n",
       "</style>\n",
       "<table border=\"1\" class=\"dataframe\">\n",
       "  <thead>\n",
       "    <tr style=\"text-align: right;\">\n",
       "      <th></th>\n",
       "      <th>Date</th>\n",
       "      <th>Close</th>\n",
       "    </tr>\n",
       "  </thead>\n",
       "  <tbody>\n",
       "    <tr>\n",
       "      <th>0</th>\n",
       "      <td>2010-06-29</td>\n",
       "      <td>23.889999</td>\n",
       "    </tr>\n",
       "    <tr>\n",
       "      <th>1</th>\n",
       "      <td>2010-06-30</td>\n",
       "      <td>23.830000</td>\n",
       "    </tr>\n",
       "    <tr>\n",
       "      <th>2</th>\n",
       "      <td>2010-07-01</td>\n",
       "      <td>21.959999</td>\n",
       "    </tr>\n",
       "    <tr>\n",
       "      <th>3</th>\n",
       "      <td>2010-07-02</td>\n",
       "      <td>19.200001</td>\n",
       "    </tr>\n",
       "    <tr>\n",
       "      <th>4</th>\n",
       "      <td>2010-07-06</td>\n",
       "      <td>16.110001</td>\n",
       "    </tr>\n",
       "  </tbody>\n",
       "</table>\n",
       "</div>"
      ],
      "text/plain": [
       "         Date      Close\n",
       "0  2010-06-29  23.889999\n",
       "1  2010-06-30  23.830000\n",
       "2  2010-07-01  21.959999\n",
       "3  2010-07-02  19.200001\n",
       "4  2010-07-06  16.110001"
      ]
     },
     "execution_count": 3,
     "metadata": {},
     "output_type": "execute_result"
    }
   ],
   "source": [
    "df=pd.DataFrame(data,columns=['Date','Close'])\n",
    "df.head()"
   ]
  },
  {
   "cell_type": "code",
   "execution_count": 4,
   "metadata": {},
   "outputs": [
    {
     "data": {
      "text/plain": [
       "False"
      ]
     },
     "execution_count": 4,
     "metadata": {},
     "output_type": "execute_result"
    }
   ],
   "source": [
    "df.isna().values.any()"
   ]
  },
  {
   "cell_type": "code",
   "execution_count": 5,
   "metadata": {},
   "outputs": [
    {
     "data": {
      "text/plain": [
       "(2416, 7)"
      ]
     },
     "execution_count": 5,
     "metadata": {},
     "output_type": "execute_result"
    }
   ],
   "source": [
    "data.shape"
   ]
  },
  {
   "cell_type": "code",
   "execution_count": 6,
   "metadata": {},
   "outputs": [
    {
     "name": "stdout",
     "output_type": "stream",
     "text": [
      "<class 'pandas.core.frame.DataFrame'>\n",
      "RangeIndex: 2416 entries, 0 to 2415\n",
      "Data columns (total 7 columns):\n",
      " #   Column     Non-Null Count  Dtype  \n",
      "---  ------     --------------  -----  \n",
      " 0   Date       2416 non-null   object \n",
      " 1   Open       2416 non-null   float64\n",
      " 2   High       2416 non-null   float64\n",
      " 3   Low        2416 non-null   float64\n",
      " 4   Close      2416 non-null   float64\n",
      " 5   Adj Close  2416 non-null   float64\n",
      " 6   Volume     2416 non-null   int64  \n",
      "dtypes: float64(5), int64(1), object(1)\n",
      "memory usage: 132.2+ KB\n"
     ]
    }
   ],
   "source": [
    "data.info()"
   ]
  },
  {
   "cell_type": "code",
   "execution_count": 7,
   "metadata": {},
   "outputs": [
    {
     "data": {
      "text/html": [
       "<div>\n",
       "<style scoped>\n",
       "    .dataframe tbody tr th:only-of-type {\n",
       "        vertical-align: middle;\n",
       "    }\n",
       "\n",
       "    .dataframe tbody tr th {\n",
       "        vertical-align: top;\n",
       "    }\n",
       "\n",
       "    .dataframe thead th {\n",
       "        text-align: right;\n",
       "    }\n",
       "</style>\n",
       "<table border=\"1\" class=\"dataframe\">\n",
       "  <thead>\n",
       "    <tr style=\"text-align: right;\">\n",
       "      <th></th>\n",
       "      <th>Open</th>\n",
       "      <th>High</th>\n",
       "      <th>Low</th>\n",
       "      <th>Close</th>\n",
       "      <th>Adj Close</th>\n",
       "      <th>Volume</th>\n",
       "    </tr>\n",
       "  </thead>\n",
       "  <tbody>\n",
       "    <tr>\n",
       "      <th>count</th>\n",
       "      <td>2416.000000</td>\n",
       "      <td>2416.000000</td>\n",
       "      <td>2416.000000</td>\n",
       "      <td>2416.000000</td>\n",
       "      <td>2416.000000</td>\n",
       "      <td>2.416000e+03</td>\n",
       "    </tr>\n",
       "    <tr>\n",
       "      <th>mean</th>\n",
       "      <td>186.271147</td>\n",
       "      <td>189.578224</td>\n",
       "      <td>182.916639</td>\n",
       "      <td>186.403651</td>\n",
       "      <td>186.403651</td>\n",
       "      <td>5.572722e+06</td>\n",
       "    </tr>\n",
       "    <tr>\n",
       "      <th>std</th>\n",
       "      <td>118.740163</td>\n",
       "      <td>120.892329</td>\n",
       "      <td>116.857591</td>\n",
       "      <td>119.136020</td>\n",
       "      <td>119.136020</td>\n",
       "      <td>4.987809e+06</td>\n",
       "    </tr>\n",
       "    <tr>\n",
       "      <th>min</th>\n",
       "      <td>16.139999</td>\n",
       "      <td>16.629999</td>\n",
       "      <td>14.980000</td>\n",
       "      <td>15.800000</td>\n",
       "      <td>15.800000</td>\n",
       "      <td>1.185000e+05</td>\n",
       "    </tr>\n",
       "    <tr>\n",
       "      <th>25%</th>\n",
       "      <td>34.342498</td>\n",
       "      <td>34.897501</td>\n",
       "      <td>33.587501</td>\n",
       "      <td>34.400002</td>\n",
       "      <td>34.400002</td>\n",
       "      <td>1.899275e+06</td>\n",
       "    </tr>\n",
       "    <tr>\n",
       "      <th>50%</th>\n",
       "      <td>213.035004</td>\n",
       "      <td>216.745002</td>\n",
       "      <td>208.870002</td>\n",
       "      <td>212.960007</td>\n",
       "      <td>212.960007</td>\n",
       "      <td>4.578400e+06</td>\n",
       "    </tr>\n",
       "    <tr>\n",
       "      <th>75%</th>\n",
       "      <td>266.450012</td>\n",
       "      <td>270.927513</td>\n",
       "      <td>262.102501</td>\n",
       "      <td>266.774994</td>\n",
       "      <td>266.774994</td>\n",
       "      <td>7.361150e+06</td>\n",
       "    </tr>\n",
       "    <tr>\n",
       "      <th>max</th>\n",
       "      <td>673.690002</td>\n",
       "      <td>786.140015</td>\n",
       "      <td>673.520020</td>\n",
       "      <td>780.000000</td>\n",
       "      <td>780.000000</td>\n",
       "      <td>4.706500e+07</td>\n",
       "    </tr>\n",
       "  </tbody>\n",
       "</table>\n",
       "</div>"
      ],
      "text/plain": [
       "              Open         High          Low        Close    Adj Close  \\\n",
       "count  2416.000000  2416.000000  2416.000000  2416.000000  2416.000000   \n",
       "mean    186.271147   189.578224   182.916639   186.403651   186.403651   \n",
       "std     118.740163   120.892329   116.857591   119.136020   119.136020   \n",
       "min      16.139999    16.629999    14.980000    15.800000    15.800000   \n",
       "25%      34.342498    34.897501    33.587501    34.400002    34.400002   \n",
       "50%     213.035004   216.745002   208.870002   212.960007   212.960007   \n",
       "75%     266.450012   270.927513   262.102501   266.774994   266.774994   \n",
       "max     673.690002   786.140015   673.520020   780.000000   780.000000   \n",
       "\n",
       "             Volume  \n",
       "count  2.416000e+03  \n",
       "mean   5.572722e+06  \n",
       "std    4.987809e+06  \n",
       "min    1.185000e+05  \n",
       "25%    1.899275e+06  \n",
       "50%    4.578400e+06  \n",
       "75%    7.361150e+06  \n",
       "max    4.706500e+07  "
      ]
     },
     "execution_count": 7,
     "metadata": {},
     "output_type": "execute_result"
    }
   ],
   "source": [
    "data.describe()"
   ]
  },
  {
   "cell_type": "code",
   "execution_count": 8,
   "metadata": {},
   "outputs": [
    {
     "data": {
      "image/png": "[encoded data removed]",
      "text/plain": [
       "<Figure size 1296x432 with 1 Axes>"
      ]
     },
     "metadata": {
      "needs_background": "light"
     },
     "output_type": "display_data"
    },
    {
     "data": {
      "image/png": "[encoded data removed]",
      "text/plain": [
       "<Figure size 1296x432 with 1 Axes>"
      ]
     },
     "metadata": {
      "needs_background": "light"
     },
     "output_type": "display_data"
    }
   ],
   "source": [
    "plt.rcParams['figure.figsize']=(18,6)\n",
    "data.plot('Date','Close',color='red')\n",
    "new_data=data.head(100)\n",
    "new_data.plot('Date','Close',color='blue')\n",
    "plt.show()"
   ]
  },
  {
   "cell_type": "code",
   "execution_count": 9,
   "metadata": {},
   "outputs": [
    {
     "data": {
      "image/png": "[encoded data removed]",
      "text/plain": [
       "<Figure size 1296x432 with 1 Axes>"
      ]
     },
     "metadata": {
      "needs_background": "light"
     },
     "output_type": "display_data"
    }
   ],
   "source": [
    "plt.rcParams['figure.figsize']=(18,6)\n",
    "plt.plot(range(data.shape[0]),(data['High']+data['Low'])/2.0)\n",
    "plt.xticks(range(0,data.shape[0],600),data['Date'].loc[::600],rotation=45)\n",
    "plt.xlabel('Date',fontsize='18')\n",
    "plt.ylabel('Mid Price',fontsize=18)\n",
    "plt.show()"
   ]
  },
  {
   "cell_type": "code",
   "execution_count": 10,
   "metadata": {},
   "outputs": [],
   "source": [
    "from sklearn.model_selection import train_test_split\n",
    "train, test = train_test_split(df, test_size=0.20,random_state=0)"
   ]
  },
  {
   "cell_type": "code",
   "execution_count": 11,
   "metadata": {},
   "outputs": [
    {
     "data": {
      "text/plain": [
       "(1932,)"
      ]
     },
     "execution_count": 11,
     "metadata": {},
     "output_type": "execute_result"
    }
   ],
   "source": [
    "train.index.shape"
   ]
  },
  {
   "cell_type": "code",
   "execution_count": 12,
   "metadata": {},
   "outputs": [
    {
     "name": "stdout",
     "output_type": "stream",
     "text": [
      "(1932, 1)\n"
     ]
    }
   ],
   "source": [
    "from sklearn.linear_model import LinearRegression\n",
    "X_train = np.array(train.index).reshape(-1, 1) #features\n",
    "print(X_train.shape)\n",
    "y_train = train['Close'] #target"
   ]
  },
  {
   "cell_type": "code",
   "execution_count": 13,
   "metadata": {},
   "outputs": [
    {
     "data": {
      "text/plain": [
       "(1932, 1)"
      ]
     },
     "execution_count": 13,
     "metadata": {},
     "output_type": "execute_result"
    }
   ],
   "source": [
    "X_train.shape"
   ]
  },
  {
   "cell_type": "code",
   "execution_count": 14,
   "metadata": {},
   "outputs": [
    {
     "data": {
      "text/plain": [
       "LinearRegression()"
      ]
     },
     "execution_count": 14,
     "metadata": {},
     "output_type": "execute_result"
    }
   ],
   "source": [
    "model=LinearRegression() #model creation\n",
    "model.fit(X_train,y_train) #training the model"
   ]
  },
  {
   "cell_type": "code",
   "execution_count": 15,
   "metadata": {},
   "outputs": [
    {
     "name": "stdout",
     "output_type": "stream",
     "text": [
      "Slope [0.15276057]\n",
      "Intercept 2.36746266026708\n"
     ]
    }
   ],
   "source": [
    "print(\"Slope\",model.coef_)#means with 1 unit increase in the date the closing price increases by 0.17$\n",
    "print(\"Intercept\",model.intercept_)"
   ]
  },
  {
   "cell_type": "code",
   "execution_count": 16,
   "metadata": {},
   "outputs": [
    {
     "name": "stdout",
     "output_type": "stream",
     "text": [
      "[173.76481802 113.42439434 246.93712927 ... 118.92377473 129.9225355\n",
      " 254.88067872]\n"
     ]
    }
   ],
   "source": [
    "pred=model.predict(X_train)\n",
    "print(pred)"
   ]
  },
  {
   "cell_type": "code",
   "execution_count": 17,
   "metadata": {},
   "outputs": [
    {
     "data": {
      "image/png": "[encoded data removed]",
      "text/plain": [
       "<Figure size 1296x432 with 1 Axes>"
      ]
     },
     "metadata": {
      "needs_background": "light"
     },
     "output_type": "display_data"
    }
   ],
   "source": [
    "plt.rcParams['figure.figsize']=(18,6)\n",
    "plt.title('Linear Regression Price and Date')\n",
    "plt.scatter(X_train,y_train,label='Actual Price')\n",
    "plt.plot(X_train,pred,color='r',label='Predicted Price')\n",
    "plt.show()"
   ]
  },
  {
   "cell_type": "code",
   "execution_count": 18,
   "metadata": {},
   "outputs": [],
   "source": [
    "X_test = np.array(test.index).reshape(-1, 1)\n",
    "y_test = test['Close']\n",
    "y_pred = model.predict(X_test)"
   ]
  },
  {
   "cell_type": "code",
   "execution_count": 19,
   "metadata": {},
   "outputs": [
    {
     "data": {
      "text/plain": [
       "(2416, 2)"
      ]
     },
     "execution_count": 19,
     "metadata": {},
     "output_type": "execute_result"
    }
   ],
   "source": [
    "df.shape"
   ]
  },
  {
   "cell_type": "code",
   "execution_count": 20,
   "metadata": {},
   "outputs": [
    {
     "data": {
      "text/html": [
       "<div>\n",
       "<style scoped>\n",
       "    .dataframe tbody tr th:only-of-type {\n",
       "        vertical-align: middle;\n",
       "    }\n",
       "\n",
       "    .dataframe tbody tr th {\n",
       "        vertical-align: top;\n",
       "    }\n",
       "\n",
       "    .dataframe thead th {\n",
       "        text-align: right;\n",
       "    }\n",
       "</style>\n",
       "<table border=\"1\" class=\"dataframe\">\n",
       "  <thead>\n",
       "    <tr style=\"text-align: right;\">\n",
       "      <th></th>\n",
       "      <th>Date</th>\n",
       "      <th>Actual</th>\n",
       "      <th>Prediction</th>\n",
       "      <th>Error</th>\n",
       "    </tr>\n",
       "  </thead>\n",
       "  <tbody>\n",
       "    <tr>\n",
       "      <th>966</th>\n",
       "      <td>2014-05-01</td>\n",
       "      <td>207.729996</td>\n",
       "      <td>149.934170</td>\n",
       "      <td>57.795826</td>\n",
       "    </tr>\n",
       "    <tr>\n",
       "      <th>557</th>\n",
       "      <td>2012-09-12</td>\n",
       "      <td>28.280001</td>\n",
       "      <td>87.455098</td>\n",
       "      <td>-59.175097</td>\n",
       "    </tr>\n",
       "    <tr>\n",
       "      <th>148</th>\n",
       "      <td>2011-01-28</td>\n",
       "      <td>24.010000</td>\n",
       "      <td>24.976026</td>\n",
       "      <td>-0.966026</td>\n",
       "    </tr>\n",
       "    <tr>\n",
       "      <th>1917</th>\n",
       "      <td>2018-02-08</td>\n",
       "      <td>315.230011</td>\n",
       "      <td>295.209468</td>\n",
       "      <td>20.020543</td>\n",
       "    </tr>\n",
       "    <tr>\n",
       "      <th>1585</th>\n",
       "      <td>2016-10-13</td>\n",
       "      <td>200.240005</td>\n",
       "      <td>244.492960</td>\n",
       "      <td>-44.252955</td>\n",
       "    </tr>\n",
       "    <tr>\n",
       "      <th>985</th>\n",
       "      <td>2014-05-29</td>\n",
       "      <td>210.240005</td>\n",
       "      <td>152.836620</td>\n",
       "      <td>57.403385</td>\n",
       "    </tr>\n",
       "    <tr>\n",
       "      <th>215</th>\n",
       "      <td>2011-05-05</td>\n",
       "      <td>26.440001</td>\n",
       "      <td>35.210984</td>\n",
       "      <td>-8.770983</td>\n",
       "    </tr>\n",
       "    <tr>\n",
       "      <th>390</th>\n",
       "      <td>2012-01-13</td>\n",
       "      <td>22.790001</td>\n",
       "      <td>61.944084</td>\n",
       "      <td>-39.154083</td>\n",
       "    </tr>\n",
       "    <tr>\n",
       "      <th>1299</th>\n",
       "      <td>2015-08-26</td>\n",
       "      <td>224.839996</td>\n",
       "      <td>200.803438</td>\n",
       "      <td>24.036558</td>\n",
       "    </tr>\n",
       "    <tr>\n",
       "      <th>1806</th>\n",
       "      <td>2017-08-30</td>\n",
       "      <td>353.179993</td>\n",
       "      <td>278.253045</td>\n",
       "      <td>74.926948</td>\n",
       "    </tr>\n",
       "    <tr>\n",
       "      <th>1390</th>\n",
       "      <td>2016-01-06</td>\n",
       "      <td>219.039993</td>\n",
       "      <td>214.704650</td>\n",
       "      <td>4.335343</td>\n",
       "    </tr>\n",
       "    <tr>\n",
       "      <th>1056</th>\n",
       "      <td>2014-09-09</td>\n",
       "      <td>278.480011</td>\n",
       "      <td>163.682621</td>\n",
       "      <td>114.797390</td>\n",
       "    </tr>\n",
       "    <tr>\n",
       "      <th>405</th>\n",
       "      <td>2012-02-06</td>\n",
       "      <td>31.799999</td>\n",
       "      <td>64.235492</td>\n",
       "      <td>-32.435493</td>\n",
       "    </tr>\n",
       "    <tr>\n",
       "      <th>746</th>\n",
       "      <td>2013-06-17</td>\n",
       "      <td>102.199997</td>\n",
       "      <td>116.326845</td>\n",
       "      <td>-14.126848</td>\n",
       "    </tr>\n",
       "    <tr>\n",
       "      <th>70</th>\n",
       "      <td>2010-10-07</td>\n",
       "      <td>20.430000</td>\n",
       "      <td>13.060702</td>\n",
       "      <td>7.369298</td>\n",
       "    </tr>\n",
       "    <tr>\n",
       "      <th>2152</th>\n",
       "      <td>2019-01-16</td>\n",
       "      <td>346.049988</td>\n",
       "      <td>331.108201</td>\n",
       "      <td>14.941787</td>\n",
       "    </tr>\n",
       "    <tr>\n",
       "      <th>733</th>\n",
       "      <td>2013-05-29</td>\n",
       "      <td>104.629997</td>\n",
       "      <td>114.340958</td>\n",
       "      <td>-9.710961</td>\n",
       "    </tr>\n",
       "    <tr>\n",
       "      <th>2281</th>\n",
       "      <td>2019-07-23</td>\n",
       "      <td>260.170013</td>\n",
       "      <td>350.814314</td>\n",
       "      <td>-90.644301</td>\n",
       "    </tr>\n",
       "    <tr>\n",
       "      <th>581</th>\n",
       "      <td>2012-10-16</td>\n",
       "      <td>28.059999</td>\n",
       "      <td>91.121352</td>\n",
       "      <td>-63.061353</td>\n",
       "    </tr>\n",
       "    <tr>\n",
       "      <th>1547</th>\n",
       "      <td>2016-08-19</td>\n",
       "      <td>225.000000</td>\n",
       "      <td>238.688059</td>\n",
       "      <td>-13.688059</td>\n",
       "    </tr>\n",
       "  </tbody>\n",
       "</table>\n",
       "</div>"
      ],
      "text/plain": [
       "            Date      Actual  Prediction       Error\n",
       "966   2014-05-01  207.729996  149.934170   57.795826\n",
       "557   2012-09-12   28.280001   87.455098  -59.175097\n",
       "148   2011-01-28   24.010000   24.976026   -0.966026\n",
       "1917  2018-02-08  315.230011  295.209468   20.020543\n",
       "1585  2016-10-13  200.240005  244.492960  -44.252955\n",
       "985   2014-05-29  210.240005  152.836620   57.403385\n",
       "215   2011-05-05   26.440001   35.210984   -8.770983\n",
       "390   2012-01-13   22.790001   61.944084  -39.154083\n",
       "1299  2015-08-26  224.839996  200.803438   24.036558\n",
       "1806  2017-08-30  353.179993  278.253045   74.926948\n",
       "1390  2016-01-06  219.039993  214.704650    4.335343\n",
       "1056  2014-09-09  278.480011  163.682621  114.797390\n",
       "405   2012-02-06   31.799999   64.235492  -32.435493\n",
       "746   2013-06-17  102.199997  116.326845  -14.126848\n",
       "70    2010-10-07   20.430000   13.060702    7.369298\n",
       "2152  2019-01-16  346.049988  331.108201   14.941787\n",
       "733   2013-05-29  104.629997  114.340958   -9.710961\n",
       "2281  2019-07-23  260.170013  350.814314  -90.644301\n",
       "581   2012-10-16   28.059999   91.121352  -63.061353\n",
       "1547  2016-08-19  225.000000  238.688059  -13.688059"
      ]
     },
     "execution_count": 20,
     "metadata": {},
     "output_type": "execute_result"
    }
   ],
   "source": [
    "df_sample=pd.DataFrame({'Date':test['Date'],'Actual':y_test,'Prediction':y_pred,'Error':(y_test-y_pred)}).head(20)\n",
    "df_sample"
   ]
  },
  {
   "cell_type": "code",
   "execution_count": 21,
   "metadata": {},
   "outputs": [
    {
     "data": {
      "image/png": "[encoded data removed]",
      "text/plain": [
       "<Figure size 1296x432 with 1 Axes>"
      ]
     },
     "metadata": {
      "needs_background": "light"
     },
     "output_type": "display_data"
    }
   ],
   "source": [
    "fig, ax = plt.subplots()\n",
    "df_sample.plot(x='Date', y=['Actual', 'Prediction'], kind='bar', ax=ax)\n",
    "plt.title('Comparison Predicted vs Actual Price in Sample data selection', fontsize=16)\n",
    "plt.xlabel('Date', fontsize=14)\n",
    "plt.ylabel('Stock Price in $', fontsize=14)\n",
    "plt.show()"
   ]
  },
  {
   "cell_type": "code",
   "execution_count": 22,
   "metadata": {},
   "outputs": [
    {
     "data": {
      "text/plain": [
       "<matplotlib.collections.PathCollection at 0x27e1f0ef6a0>"
      ]
     },
     "execution_count": 22,
     "metadata": {},
     "output_type": "execute_result"
    },
    {
     "data": {
      "image/png": "[encoded data removed]",
      "text/plain": [
       "<Figure size 1152x720 with 1 Axes>"
      ]
     },
     "metadata": {
      "needs_background": "light"
     },
     "output_type": "display_data"
    }
   ],
   "source": [
    "plt.figure(1, figsize=(16,10))\n",
    "plt.title('Price vs Date')\n",
    "plt.plot(X_test, model.predict(X_test), color='r', label='Predicted Price')\n",
    "plt.scatter(X_test, y_test, label='Actual Price')"
   ]
  },
  {
   "cell_type": "code",
   "execution_count": 23,
   "metadata": {},
   "outputs": [
    {
     "data": {
      "text/plain": [
       "0.7823533344624387"
      ]
     },
     "execution_count": 23,
     "metadata": {},
     "output_type": "execute_result"
    }
   ],
   "source": [
    "from sklearn.metrics import explained_variance_score\n",
    "#It shows that how much variation in Y is explained by the variable X. \n",
    "#For example if your r-squared is 0.86, it says that 86% of the variation in Y can be explained by X,\n",
    "#while the rest is explained by some other variables not included in the model. \n",
    "#Its used as a measure of goodness of fit of the model.\n",
    "explained_variance_score(y_test, y_pred)"
   ]
  },
  {
   "cell_type": "code",
   "execution_count": 24,
   "metadata": {},
   "outputs": [
    {
     "data": {
      "text/plain": [
       "RandomForestRegressor(random_state=0)"
      ]
     },
     "execution_count": 24,
     "metadata": {},
     "output_type": "execute_result"
    }
   ],
   "source": [
    "from sklearn.ensemble import RandomForestRegressor\n",
    " \n",
    " # create regressor object\n",
    "regressor = RandomForestRegressor(n_estimators = 100, random_state = 0)\n",
    " \n",
    "# fit the regressor with x and y data\n",
    "regressor.fit(X_train,y_train)"
   ]
  },
  {
   "cell_type": "code",
   "execution_count": 25,
   "metadata": {},
   "outputs": [
    {
     "name": "stdout",
     "output_type": "stream",
     "text": [
      "[209.15600071  28.21559931  24.64860002 334.70480365 199.86509656\n",
      " 208.36500421  26.82640099  28.17820004 228.52660061 349.03818828\n",
      " 220.14759513 281.05709407  31.2034     101.31379978  20.61710025\n",
      " 337.51809627 107.78750066 256.89059668  27.56180022 223.37269595\n",
      " 358.87780175 323.10520118 224.10230122 335.22709294 301.25119557\n",
      " 187.28369945 333.45839843 270.90679961 225.49950059 247.4137018\n",
      "  26.76900013  31.53589937  29.74160058 222.40370211 386.43479579\n",
      " 213.00939772 210.74759793 142.10269764 321.42961111 217.97300032\n",
      " 310.40180505  36.35559903  24.05499996 219.89079674  28.54899971\n",
      " 232.15679492 201.5905026   34.08340114 324.50568819 267.75880655\n",
      " 236.57570058 302.17751052  36.64359916 217.08679901 284.51519379\n",
      " 224.16579776  33.57900025 237.77389859  17.13999929  50.05729946\n",
      " 229.70719919  33.89970115 258.83250619 327.40809408  27.9244994\n",
      "  28.08340048 241.92899812 229.32169725  20.3998001   33.33679976\n",
      "  33.35199993 170.73739888 322.19270498  23.52949973  33.28199937\n",
      " 304.41040788 308.3067051   18.44690001  20.91949931 244.97330308\n",
      " 328.83410993 217.3673011   53.96549965 212.12929883  35.47469968\n",
      " 347.54819305  34.29400034 506.15199706  24.0602002  226.92040038\n",
      "  28.33840011 331.36810546  38.07259923 247.43870092 179.81730437\n",
      " 239.71449479 355.4373955   31.20990024  27.55469962  53.40950135\n",
      "  35.1485994  316.58260435 252.7437998  349.45219987 220.01319901\n",
      "  29.00609974 194.19730314 192.46589938 253.94010026  26.48739944\n",
      " 221.31949977 346.96290433 229.97210234 371.32349042 228.38989836\n",
      " 159.82270361 205.28229732 268.53320354 297.90369495  21.02260073\n",
      " 209.79269888 278.10150663 224.38979938  25.84640052 343.09810753\n",
      " 355.19829377 221.38640198 344.26189076 313.60720204  21.33619964\n",
      " 197.73380134 524.96909919  19.85440024 273.79609932 225.30330097\n",
      " 344.51930414 344.64499912 249.30119979 203.7379029  209.21769899\n",
      "  27.66069985 338.27900412 361.29058776 208.36760084  22.77239948\n",
      "  26.46260004  27.6522998  197.07110212 222.47229515 122.04439934\n",
      " 244.70259627  30.82649935  34.67870011  24.38410018  21.39050055\n",
      "  29.2449999   20.51049979 192.46199359 371.30089094  25.16799979\n",
      " 259.33699737  30.29849939 236.32080374 219.52730287  33.66759996\n",
      " 222.08999716 364.38129596 317.26129657 290.91979397 269.05240316\n",
      " 271.32790265 305.61379595 208.57670481 226.6354023  330.71330607\n",
      " 345.65830426 218.06569702 363.58460338  35.63300118 312.91850605\n",
      " 229.67689763  29.70690003 253.05889771 148.4798992   31.32090039\n",
      " 242.37970324 150.30309924  18.03859907  20.34970059 219.9837961\n",
      " 345.87289778  29.33599924 301.28699648 279.15000553 329.8594995\n",
      " 222.31919726 233.73679747  39.00699941 225.2182019  310.47018927\n",
      "  29.34689931 264.26620325  36.74139898 259.71219913 250.17370582\n",
      " 172.61409697 346.21600222  24.1143     340.84680588 306.18359496\n",
      " 150.5912013   33.90270083 297.00071181 234.62539622 254.48220269\n",
      " 245.46329921  26.15479951 482.70939482  28.26900024  37.01610054\n",
      " 216.99909939 102.38180008 300.46859505  37.41609936  27.36060047\n",
      " 241.3594026   32.82140106  19.98129941 191.87640425 247.86960535\n",
      " 353.59569565 279.57800987 253.57260236 239.94939974 230.43849919\n",
      " 226.72859753 301.14810148  28.51979995 201.28989753 344.68400867\n",
      " 222.47219678  28.40250003 255.17940213 270.33061149 201.52550065\n",
      "  19.22720032  35.53410083  26.64619998  28.59849985 118.60039869\n",
      " 342.75130354 334.35640312 161.63820107  33.26069927  26.71269911\n",
      " 214.43379898  98.39550085 193.36739853  29.5769     364.91559786\n",
      " 349.82940912  27.53129987 241.46530307 305.04759505  33.4594004\n",
      " 207.93470447 188.3125014  250.78610346 273.48509597 332.75000135\n",
      " 188.96249862 172.10699448  37.11140094  35.24390148 204.7551961\n",
      " 232.42940123 184.15169718 189.41720339 244.07549685 244.0358996\n",
      " 228.70809726 265.43550454 349.74119547  29.91199989 248.4303034\n",
      "  34.36520083 205.2906004   34.85879996 308.25409391 260.94750411\n",
      "  22.81429918 297.15680397  20.56150005 141.103697    27.66500008\n",
      " 219.23090436 255.51610791 299.04178895 287.22819819 470.29459862\n",
      "  30.53799972 151.62000228 225.5725013  228.29640188 360.7917951\n",
      " 301.42220388  36.02860128 167.06149901 252.11589947 183.22510256\n",
      " 238.52559524 205.32750197  34.24559991 303.5567925  154.03230219\n",
      " 293.73540811 251.50100163  28.65170058  31.45200074 124.7419011\n",
      "  27.87010065  27.6145006  321.49219321  28.0039     148.04059742\n",
      " 374.13509022 208.18550021 248.23489805 250.15260338 259.78910691\n",
      " 200.1771962  260.33070275  30.53979934  20.89629968  23.22029932\n",
      "  27.3376998  312.05810065 228.94259699 119.16930039 199.25470093\n",
      " 247.45679602  57.36779954 183.13960204 224.15519734  27.25959944\n",
      " 229.98589983  32.29390136  32.5698011   24.78129992  23.99109937\n",
      "  27.94219931 248.6176973  247.68920403 224.4876051  212.38159737\n",
      " 163.56300032 200.70970507 249.92439637  26.10079995  38.51299981\n",
      " 208.45130168 239.92000197  51.87730024  34.66450069 333.2640024\n",
      " 246.710697   216.89259969  25.89869977 254.52079468 342.14910228\n",
      "  37.45740017 313.98789521 212.30170495 263.78999926 167.7457995\n",
      " 202.39199632  28.96969991 296.69939912 174.24229565 202.67500267\n",
      " 341.8489004  325.37619285  28.59520001 332.03189384  38.35680044\n",
      " 213.91159996 207.90230371  27.55700007 251.85550508 234.15030094\n",
      " 242.49090227 200.36980262 247.75880039 372.77979138 261.81890798\n",
      " 212.52179848 239.94340026 281.05779094 234.07870033 346.20599724\n",
      "  26.7884     204.14110107 238.05419814  20.39059921 249.51439728\n",
      " 182.71629891 231.70780382 221.29150442  23.42629929 166.84290073\n",
      " 324.25419784 241.87190327  23.5352     272.21240993 222.67749806\n",
      " 229.55080442 347.96749553 261.12799792 225.52350452  20.65549923\n",
      "  27.60869943  24.92249974 355.31229487 188.07029599 229.50369848\n",
      " 241.69679609  32.77240031 204.79849659 149.25950049  20.84599962\n",
      "  24.54949941 205.95670334  29.58999911  25.99929995  24.55410015\n",
      " 230.55239744 249.64070333  33.00170008  20.81549972 324.03900116\n",
      " 174.38329483 223.86769807  27.75779974 223.35129748 316.38829337\n",
      "  24.44990008  89.45370071 277.38941096 135.18619959 229.55909546\n",
      " 163.4483004  187.99000481  34.24749912  44.07349969 194.67619593\n",
      "  29.95589951 314.41730789  28.5807005  223.73829624 226.62079668\n",
      " 265.40011072 236.03470442 253.03069853  23.37839999 189.36780439\n",
      " 278.6100964   29.2869999  165.25099487  18.67530061 171.08009577\n",
      "  71.36860187 262.27990929 357.21390278 314.59149905 264.73850182\n",
      " 278.65269417 352.59269269 205.95580387  28.4728     190.97959472\n",
      " 352.03699015  27.81250057 187.68180064  32.28560067]\n"
     ]
    }
   ],
   "source": [
    "pred2=regressor.predict(X_test)\n",
    "print(pred2)"
   ]
  },
  {
   "cell_type": "code",
   "execution_count": 26,
   "metadata": {},
   "outputs": [
    {
     "data": {
      "text/html": [
       "<div>\n",
       "<style scoped>\n",
       "    .dataframe tbody tr th:only-of-type {\n",
       "        vertical-align: middle;\n",
       "    }\n",
       "\n",
       "    .dataframe tbody tr th {\n",
       "        vertical-align: top;\n",
       "    }\n",
       "\n",
       "    .dataframe thead th {\n",
       "        text-align: right;\n",
       "    }\n",
       "</style>\n",
       "<table border=\"1\" class=\"dataframe\">\n",
       "  <thead>\n",
       "    <tr style=\"text-align: right;\">\n",
       "      <th></th>\n",
       "      <th>Date</th>\n",
       "      <th>Actual</th>\n",
       "      <th>Prediction</th>\n",
       "      <th>Error</th>\n",
       "    </tr>\n",
       "  </thead>\n",
       "  <tbody>\n",
       "    <tr>\n",
       "      <th>966</th>\n",
       "      <td>2014-05-01</td>\n",
       "      <td>207.729996</td>\n",
       "      <td>209.156001</td>\n",
       "      <td>-1.426005</td>\n",
       "    </tr>\n",
       "    <tr>\n",
       "      <th>557</th>\n",
       "      <td>2012-09-12</td>\n",
       "      <td>28.280001</td>\n",
       "      <td>28.215599</td>\n",
       "      <td>0.064402</td>\n",
       "    </tr>\n",
       "    <tr>\n",
       "      <th>148</th>\n",
       "      <td>2011-01-28</td>\n",
       "      <td>24.010000</td>\n",
       "      <td>24.648600</td>\n",
       "      <td>-0.638600</td>\n",
       "    </tr>\n",
       "    <tr>\n",
       "      <th>1917</th>\n",
       "      <td>2018-02-08</td>\n",
       "      <td>315.230011</td>\n",
       "      <td>334.704804</td>\n",
       "      <td>-19.474793</td>\n",
       "    </tr>\n",
       "    <tr>\n",
       "      <th>1585</th>\n",
       "      <td>2016-10-13</td>\n",
       "      <td>200.240005</td>\n",
       "      <td>199.865097</td>\n",
       "      <td>0.374908</td>\n",
       "    </tr>\n",
       "    <tr>\n",
       "      <th>985</th>\n",
       "      <td>2014-05-29</td>\n",
       "      <td>210.240005</td>\n",
       "      <td>208.365004</td>\n",
       "      <td>1.875001</td>\n",
       "    </tr>\n",
       "    <tr>\n",
       "      <th>215</th>\n",
       "      <td>2011-05-05</td>\n",
       "      <td>26.440001</td>\n",
       "      <td>26.826401</td>\n",
       "      <td>-0.386400</td>\n",
       "    </tr>\n",
       "    <tr>\n",
       "      <th>390</th>\n",
       "      <td>2012-01-13</td>\n",
       "      <td>22.790001</td>\n",
       "      <td>28.178200</td>\n",
       "      <td>-5.388199</td>\n",
       "    </tr>\n",
       "    <tr>\n",
       "      <th>1299</th>\n",
       "      <td>2015-08-26</td>\n",
       "      <td>224.839996</td>\n",
       "      <td>228.526601</td>\n",
       "      <td>-3.686605</td>\n",
       "    </tr>\n",
       "    <tr>\n",
       "      <th>1806</th>\n",
       "      <td>2017-08-30</td>\n",
       "      <td>353.179993</td>\n",
       "      <td>349.038188</td>\n",
       "      <td>4.141805</td>\n",
       "    </tr>\n",
       "    <tr>\n",
       "      <th>1390</th>\n",
       "      <td>2016-01-06</td>\n",
       "      <td>219.039993</td>\n",
       "      <td>220.147595</td>\n",
       "      <td>-1.107602</td>\n",
       "    </tr>\n",
       "    <tr>\n",
       "      <th>1056</th>\n",
       "      <td>2014-09-09</td>\n",
       "      <td>278.480011</td>\n",
       "      <td>281.057094</td>\n",
       "      <td>-2.577083</td>\n",
       "    </tr>\n",
       "    <tr>\n",
       "      <th>405</th>\n",
       "      <td>2012-02-06</td>\n",
       "      <td>31.799999</td>\n",
       "      <td>31.203400</td>\n",
       "      <td>0.596599</td>\n",
       "    </tr>\n",
       "    <tr>\n",
       "      <th>746</th>\n",
       "      <td>2013-06-17</td>\n",
       "      <td>102.199997</td>\n",
       "      <td>101.313800</td>\n",
       "      <td>0.886197</td>\n",
       "    </tr>\n",
       "    <tr>\n",
       "      <th>70</th>\n",
       "      <td>2010-10-07</td>\n",
       "      <td>20.430000</td>\n",
       "      <td>20.617100</td>\n",
       "      <td>-0.187100</td>\n",
       "    </tr>\n",
       "    <tr>\n",
       "      <th>2152</th>\n",
       "      <td>2019-01-16</td>\n",
       "      <td>346.049988</td>\n",
       "      <td>337.518096</td>\n",
       "      <td>8.531892</td>\n",
       "    </tr>\n",
       "    <tr>\n",
       "      <th>733</th>\n",
       "      <td>2013-05-29</td>\n",
       "      <td>104.629997</td>\n",
       "      <td>107.787501</td>\n",
       "      <td>-3.157504</td>\n",
       "    </tr>\n",
       "    <tr>\n",
       "      <th>2281</th>\n",
       "      <td>2019-07-23</td>\n",
       "      <td>260.170013</td>\n",
       "      <td>256.890597</td>\n",
       "      <td>3.279416</td>\n",
       "    </tr>\n",
       "    <tr>\n",
       "      <th>581</th>\n",
       "      <td>2012-10-16</td>\n",
       "      <td>28.059999</td>\n",
       "      <td>27.561800</td>\n",
       "      <td>0.498199</td>\n",
       "    </tr>\n",
       "    <tr>\n",
       "      <th>1547</th>\n",
       "      <td>2016-08-19</td>\n",
       "      <td>225.000000</td>\n",
       "      <td>223.372696</td>\n",
       "      <td>1.627304</td>\n",
       "    </tr>\n",
       "  </tbody>\n",
       "</table>\n",
       "</div>"
      ],
      "text/plain": [
       "            Date      Actual  Prediction      Error\n",
       "966   2014-05-01  207.729996  209.156001  -1.426005\n",
       "557   2012-09-12   28.280001   28.215599   0.064402\n",
       "148   2011-01-28   24.010000   24.648600  -0.638600\n",
       "1917  2018-02-08  315.230011  334.704804 -19.474793\n",
       "1585  2016-10-13  200.240005  199.865097   0.374908\n",
       "985   2014-05-29  210.240005  208.365004   1.875001\n",
       "215   2011-05-05   26.440001   26.826401  -0.386400\n",
       "390   2012-01-13   22.790001   28.178200  -5.388199\n",
       "1299  2015-08-26  224.839996  228.526601  -3.686605\n",
       "1806  2017-08-30  353.179993  349.038188   4.141805\n",
       "1390  2016-01-06  219.039993  220.147595  -1.107602\n",
       "1056  2014-09-09  278.480011  281.057094  -2.577083\n",
       "405   2012-02-06   31.799999   31.203400   0.596599\n",
       "746   2013-06-17  102.199997  101.313800   0.886197\n",
       "70    2010-10-07   20.430000   20.617100  -0.187100\n",
       "2152  2019-01-16  346.049988  337.518096   8.531892\n",
       "733   2013-05-29  104.629997  107.787501  -3.157504\n",
       "2281  2019-07-23  260.170013  256.890597   3.279416\n",
       "581   2012-10-16   28.059999   27.561800   0.498199\n",
       "1547  2016-08-19  225.000000  223.372696   1.627304"
      ]
     },
     "execution_count": 26,
     "metadata": {},
     "output_type": "execute_result"
    }
   ],
   "source": [
    "df_sample2=pd.DataFrame({'Date':test['Date'],'Actual':y_test,'Prediction':pred2,'Error':(y_test-pred2)}).head(20)\n",
    "df_sample2"
   ]
  },
  {
   "cell_type": "code",
   "execution_count": 27,
   "metadata": {},
   "outputs": [
    {
     "data": {
      "text/plain": [
       "0.9971168687845406"
      ]
     },
     "execution_count": 27,
     "metadata": {},
     "output_type": "execute_result"
    }
   ],
   "source": [
    "explained_variance_score(y_test, pred2)"
   ]
  }
 ],
 "metadata": {
  "kernelspec": {
   "display_name": "Python 3 (ipykernel)",
   "language": "python",
   "name": "python3"
  },
  "language_info": {
   "codemirror_mode": {
    "name": "ipython",
    "version": 3
   },
   "file_extension": ".py",
   "mimetype": "text/x-python",
   "name": "python",
   "nbconvert_exporter": "python",
   "pygments_lexer": "ipython3",
   "version": "3.9.7"
  }
 },
 "nbformat": 4,
 "nbformat_minor": 4
}
